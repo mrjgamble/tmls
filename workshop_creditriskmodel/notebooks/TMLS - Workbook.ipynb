{
 "cells": [
  {
   "cell_type": "code",
   "execution_count": 1,
   "metadata": {},
   "outputs": [],
   "source": [
    "# import modules\n",
    "import pandas as pd\n",
    "import numpy as np\n",
    "import matplotlib.pyplot as plt\n",
    "import os as os\n",
    "\n",
    "# make plots pretty\n",
    "import seaborn as sns\n",
    "sns.set(style='whitegrid', color_codes=True)\n",
    "\n",
    "# supress warnings\n",
    "import warnings\n",
    "warnings.filterwarnings('ignore')\n",
    "\n",
    "# preprocessing\n",
    "from sklearn.model_selection import train_test_split\n",
    "from sklearn.preprocessing import StandardScaler\n",
    "from sklearn.pipeline import Pipeline\n",
    "from sklearn.decomposition import PCA\n",
    "from sklearn.feature_selection import SelectFromModel\n",
    "from sklearn.feature_selection import SelectKBest\n",
    "\n",
    "# models\n",
    "from sklearn.linear_model import LogisticRegression\n",
    "\n",
    "# scores & validation\n",
    "from sklearn.metrics import mean_squared_error\n",
    "from sklearn.metrics import roc_auc_score\n",
    "from sklearn.metrics import roc_curve\n",
    "from sklearn.metrics import accuracy_score\n",
    "from sklearn.model_selection import cross_val_score\n",
    "from sklearn.metrics import classification_report\n",
    "from sklearn.metrics import confusion_matrix\n",
    "from sklearn.model_selection import GridSearchCV\n",
    "from sklearn.model_selection import RandomizedSearchCV\n",
    "\n",
    "from matplotlib.ticker import StrMethodFormatter"
   ]
  },
  {
   "cell_type": "markdown",
   "metadata": {},
   "source": [
    "## Lending Club - Credit Risk Model Example\n",
    "Data can be downloaded at https://www.lendingclub.com/info/download-data.action"
   ]
  },
  {
   "cell_type": "markdown",
   "metadata": {},
   "source": [
    "\n",
    "# Task 1 - Data Import\n",
    "Before we can even begin to work, we are required to load data into a pandas dataframe.  In our particular case, we have data stored in csv file and can utilize the Pandas read_csv function.\n",
    "\n",
    "The Pandas documentation outlines various other ways to import data: https://pandas.pydata.org/pandas-docs/stable/api.html#input-output"
   ]
  },
  {
   "cell_type": "code",
   "execution_count": 2,
   "metadata": {},
   "outputs": [],
   "source": [
    "# For the time constraints within this workshop, we will only import a single data file.\n",
    "# - skiprows allows us to skip importing the first line of the CSV\n",
    "# - skipfooter allows us to skip the last 2 lines of the CSV\n",
    "df = pd.read_csv('../data/LoanStats3a.csv', skiprows=[0], skipfooter=2)"
   ]
  },
  {
   "cell_type": "markdown",
   "metadata": {},
   "source": [
    "#### a) With the data imported, print out the first 5 rows of data.  \n",
    "* Do you notice anything wrong with the data? \n",
    "* How can we correct this? "
   ]
  },
  {
   "cell_type": "code",
   "execution_count": 3,
   "metadata": {},
   "outputs": [
    {
     "data": {
      "text/html": [
       "<div>\n",
       "<style scoped>\n",
       "    .dataframe tbody tr th:only-of-type {\n",
       "        vertical-align: middle;\n",
       "    }\n",
       "\n",
       "    .dataframe tbody tr th {\n",
       "        vertical-align: top;\n",
       "    }\n",
       "\n",
       "    .dataframe thead th {\n",
       "        text-align: right;\n",
       "    }\n",
       "</style>\n",
       "<table border=\"1\" class=\"dataframe\">\n",
       "  <thead>\n",
       "    <tr style=\"text-align: right;\">\n",
       "      <th></th>\n",
       "      <th>id</th>\n",
       "      <th>member_id</th>\n",
       "      <th>loan_amnt</th>\n",
       "      <th>funded_amnt</th>\n",
       "      <th>funded_amnt_inv</th>\n",
       "      <th>term</th>\n",
       "      <th>int_rate</th>\n",
       "      <th>installment</th>\n",
       "      <th>grade</th>\n",
       "      <th>sub_grade</th>\n",
       "      <th>...</th>\n",
       "      <th>hardship_payoff_balance_amount</th>\n",
       "      <th>hardship_last_payment_amount</th>\n",
       "      <th>disbursement_method</th>\n",
       "      <th>debt_settlement_flag</th>\n",
       "      <th>debt_settlement_flag_date</th>\n",
       "      <th>settlement_status</th>\n",
       "      <th>settlement_date</th>\n",
       "      <th>settlement_amount</th>\n",
       "      <th>settlement_percentage</th>\n",
       "      <th>settlement_term</th>\n",
       "    </tr>\n",
       "  </thead>\n",
       "  <tbody>\n",
       "    <tr>\n",
       "      <th>0</th>\n",
       "      <td>NaN</td>\n",
       "      <td>NaN</td>\n",
       "      <td>5000.0</td>\n",
       "      <td>5000.0</td>\n",
       "      <td>4975.0</td>\n",
       "      <td>36 months</td>\n",
       "      <td>10.65%</td>\n",
       "      <td>162.87</td>\n",
       "      <td>B</td>\n",
       "      <td>B2</td>\n",
       "      <td>...</td>\n",
       "      <td>NaN</td>\n",
       "      <td>NaN</td>\n",
       "      <td>Cash</td>\n",
       "      <td>N</td>\n",
       "      <td>NaN</td>\n",
       "      <td>NaN</td>\n",
       "      <td>NaN</td>\n",
       "      <td>NaN</td>\n",
       "      <td>NaN</td>\n",
       "      <td>NaN</td>\n",
       "    </tr>\n",
       "    <tr>\n",
       "      <th>1</th>\n",
       "      <td>NaN</td>\n",
       "      <td>NaN</td>\n",
       "      <td>2500.0</td>\n",
       "      <td>2500.0</td>\n",
       "      <td>2500.0</td>\n",
       "      <td>60 months</td>\n",
       "      <td>15.27%</td>\n",
       "      <td>59.83</td>\n",
       "      <td>C</td>\n",
       "      <td>C4</td>\n",
       "      <td>...</td>\n",
       "      <td>NaN</td>\n",
       "      <td>NaN</td>\n",
       "      <td>Cash</td>\n",
       "      <td>N</td>\n",
       "      <td>NaN</td>\n",
       "      <td>NaN</td>\n",
       "      <td>NaN</td>\n",
       "      <td>NaN</td>\n",
       "      <td>NaN</td>\n",
       "      <td>NaN</td>\n",
       "    </tr>\n",
       "    <tr>\n",
       "      <th>2</th>\n",
       "      <td>NaN</td>\n",
       "      <td>NaN</td>\n",
       "      <td>2400.0</td>\n",
       "      <td>2400.0</td>\n",
       "      <td>2400.0</td>\n",
       "      <td>36 months</td>\n",
       "      <td>15.96%</td>\n",
       "      <td>84.33</td>\n",
       "      <td>C</td>\n",
       "      <td>C5</td>\n",
       "      <td>...</td>\n",
       "      <td>NaN</td>\n",
       "      <td>NaN</td>\n",
       "      <td>Cash</td>\n",
       "      <td>N</td>\n",
       "      <td>NaN</td>\n",
       "      <td>NaN</td>\n",
       "      <td>NaN</td>\n",
       "      <td>NaN</td>\n",
       "      <td>NaN</td>\n",
       "      <td>NaN</td>\n",
       "    </tr>\n",
       "    <tr>\n",
       "      <th>3</th>\n",
       "      <td>NaN</td>\n",
       "      <td>NaN</td>\n",
       "      <td>10000.0</td>\n",
       "      <td>10000.0</td>\n",
       "      <td>10000.0</td>\n",
       "      <td>36 months</td>\n",
       "      <td>13.49%</td>\n",
       "      <td>339.31</td>\n",
       "      <td>C</td>\n",
       "      <td>C1</td>\n",
       "      <td>...</td>\n",
       "      <td>NaN</td>\n",
       "      <td>NaN</td>\n",
       "      <td>Cash</td>\n",
       "      <td>N</td>\n",
       "      <td>NaN</td>\n",
       "      <td>NaN</td>\n",
       "      <td>NaN</td>\n",
       "      <td>NaN</td>\n",
       "      <td>NaN</td>\n",
       "      <td>NaN</td>\n",
       "    </tr>\n",
       "    <tr>\n",
       "      <th>4</th>\n",
       "      <td>NaN</td>\n",
       "      <td>NaN</td>\n",
       "      <td>3000.0</td>\n",
       "      <td>3000.0</td>\n",
       "      <td>3000.0</td>\n",
       "      <td>60 months</td>\n",
       "      <td>12.69%</td>\n",
       "      <td>67.79</td>\n",
       "      <td>B</td>\n",
       "      <td>B5</td>\n",
       "      <td>...</td>\n",
       "      <td>NaN</td>\n",
       "      <td>NaN</td>\n",
       "      <td>Cash</td>\n",
       "      <td>N</td>\n",
       "      <td>NaN</td>\n",
       "      <td>NaN</td>\n",
       "      <td>NaN</td>\n",
       "      <td>NaN</td>\n",
       "      <td>NaN</td>\n",
       "      <td>NaN</td>\n",
       "    </tr>\n",
       "  </tbody>\n",
       "</table>\n",
       "<p>5 rows × 145 columns</p>\n",
       "</div>"
      ],
      "text/plain": [
       "    id  member_id  loan_amnt  funded_amnt  funded_amnt_inv        term  \\\n",
       "0  NaN        NaN     5000.0       5000.0           4975.0   36 months   \n",
       "1  NaN        NaN     2500.0       2500.0           2500.0   60 months   \n",
       "2  NaN        NaN     2400.0       2400.0           2400.0   36 months   \n",
       "3  NaN        NaN    10000.0      10000.0          10000.0   36 months   \n",
       "4  NaN        NaN     3000.0       3000.0           3000.0   60 months   \n",
       "\n",
       "  int_rate  installment grade sub_grade       ...        \\\n",
       "0   10.65%       162.87     B        B2       ...         \n",
       "1   15.27%        59.83     C        C4       ...         \n",
       "2   15.96%        84.33     C        C5       ...         \n",
       "3   13.49%       339.31     C        C1       ...         \n",
       "4   12.69%        67.79     B        B5       ...         \n",
       "\n",
       "  hardship_payoff_balance_amount hardship_last_payment_amount  \\\n",
       "0                            NaN                          NaN   \n",
       "1                            NaN                          NaN   \n",
       "2                            NaN                          NaN   \n",
       "3                            NaN                          NaN   \n",
       "4                            NaN                          NaN   \n",
       "\n",
       "  disbursement_method  debt_settlement_flag debt_settlement_flag_date  \\\n",
       "0                Cash                     N                       NaN   \n",
       "1                Cash                     N                       NaN   \n",
       "2                Cash                     N                       NaN   \n",
       "3                Cash                     N                       NaN   \n",
       "4                Cash                     N                       NaN   \n",
       "\n",
       "  settlement_status settlement_date settlement_amount  settlement_percentage  \\\n",
       "0               NaN             NaN               NaN                    NaN   \n",
       "1               NaN             NaN               NaN                    NaN   \n",
       "2               NaN             NaN               NaN                    NaN   \n",
       "3               NaN             NaN               NaN                    NaN   \n",
       "4               NaN             NaN               NaN                    NaN   \n",
       "\n",
       "  settlement_term  \n",
       "0             NaN  \n",
       "1             NaN  \n",
       "2             NaN  \n",
       "3             NaN  \n",
       "4             NaN  \n",
       "\n",
       "[5 rows x 145 columns]"
      ]
     },
     "execution_count": 3,
     "metadata": {},
     "output_type": "execute_result"
    }
   ],
   "source": [
    "# display first 5 rows of the dataframe\n",
    "df.head()"
   ]
  },
  {
   "cell_type": "markdown",
   "metadata": {},
   "source": [
    "#### b) Print out the last 5 rows of data. \n",
    "* Do you notice anything wrong? \n",
    "* How can we correct this? "
   ]
  },
  {
   "cell_type": "code",
   "execution_count": 4,
   "metadata": {},
   "outputs": [
    {
     "data": {
      "text/html": [
       "<div>\n",
       "<style scoped>\n",
       "    .dataframe tbody tr th:only-of-type {\n",
       "        vertical-align: middle;\n",
       "    }\n",
       "\n",
       "    .dataframe tbody tr th {\n",
       "        vertical-align: top;\n",
       "    }\n",
       "\n",
       "    .dataframe thead th {\n",
       "        text-align: right;\n",
       "    }\n",
       "</style>\n",
       "<table border=\"1\" class=\"dataframe\">\n",
       "  <thead>\n",
       "    <tr style=\"text-align: right;\">\n",
       "      <th></th>\n",
       "      <th>id</th>\n",
       "      <th>member_id</th>\n",
       "      <th>loan_amnt</th>\n",
       "      <th>funded_amnt</th>\n",
       "      <th>funded_amnt_inv</th>\n",
       "      <th>term</th>\n",
       "      <th>int_rate</th>\n",
       "      <th>installment</th>\n",
       "      <th>grade</th>\n",
       "      <th>sub_grade</th>\n",
       "      <th>...</th>\n",
       "      <th>hardship_payoff_balance_amount</th>\n",
       "      <th>hardship_last_payment_amount</th>\n",
       "      <th>disbursement_method</th>\n",
       "      <th>debt_settlement_flag</th>\n",
       "      <th>debt_settlement_flag_date</th>\n",
       "      <th>settlement_status</th>\n",
       "      <th>settlement_date</th>\n",
       "      <th>settlement_amount</th>\n",
       "      <th>settlement_percentage</th>\n",
       "      <th>settlement_term</th>\n",
       "    </tr>\n",
       "  </thead>\n",
       "  <tbody>\n",
       "    <tr>\n",
       "      <th>42531</th>\n",
       "      <td>NaN</td>\n",
       "      <td>NaN</td>\n",
       "      <td>3500.0</td>\n",
       "      <td>3500.0</td>\n",
       "      <td>225.0</td>\n",
       "      <td>36 months</td>\n",
       "      <td>10.28%</td>\n",
       "      <td>113.39</td>\n",
       "      <td>C</td>\n",
       "      <td>C1</td>\n",
       "      <td>...</td>\n",
       "      <td>NaN</td>\n",
       "      <td>NaN</td>\n",
       "      <td>Cash</td>\n",
       "      <td>N</td>\n",
       "      <td>NaN</td>\n",
       "      <td>NaN</td>\n",
       "      <td>NaN</td>\n",
       "      <td>NaN</td>\n",
       "      <td>NaN</td>\n",
       "      <td>NaN</td>\n",
       "    </tr>\n",
       "    <tr>\n",
       "      <th>42532</th>\n",
       "      <td>NaN</td>\n",
       "      <td>NaN</td>\n",
       "      <td>1000.0</td>\n",
       "      <td>1000.0</td>\n",
       "      <td>0.0</td>\n",
       "      <td>36 months</td>\n",
       "      <td>9.64%</td>\n",
       "      <td>32.11</td>\n",
       "      <td>B</td>\n",
       "      <td>B4</td>\n",
       "      <td>...</td>\n",
       "      <td>NaN</td>\n",
       "      <td>NaN</td>\n",
       "      <td>Cash</td>\n",
       "      <td>N</td>\n",
       "      <td>NaN</td>\n",
       "      <td>NaN</td>\n",
       "      <td>NaN</td>\n",
       "      <td>NaN</td>\n",
       "      <td>NaN</td>\n",
       "      <td>NaN</td>\n",
       "    </tr>\n",
       "    <tr>\n",
       "      <th>42533</th>\n",
       "      <td>NaN</td>\n",
       "      <td>NaN</td>\n",
       "      <td>2525.0</td>\n",
       "      <td>2525.0</td>\n",
       "      <td>225.0</td>\n",
       "      <td>36 months</td>\n",
       "      <td>9.33%</td>\n",
       "      <td>80.69</td>\n",
       "      <td>B</td>\n",
       "      <td>B3</td>\n",
       "      <td>...</td>\n",
       "      <td>NaN</td>\n",
       "      <td>NaN</td>\n",
       "      <td>Cash</td>\n",
       "      <td>N</td>\n",
       "      <td>NaN</td>\n",
       "      <td>NaN</td>\n",
       "      <td>NaN</td>\n",
       "      <td>NaN</td>\n",
       "      <td>NaN</td>\n",
       "      <td>NaN</td>\n",
       "    </tr>\n",
       "    <tr>\n",
       "      <th>42534</th>\n",
       "      <td>NaN</td>\n",
       "      <td>NaN</td>\n",
       "      <td>6500.0</td>\n",
       "      <td>6500.0</td>\n",
       "      <td>0.0</td>\n",
       "      <td>36 months</td>\n",
       "      <td>8.38%</td>\n",
       "      <td>204.84</td>\n",
       "      <td>A</td>\n",
       "      <td>A5</td>\n",
       "      <td>...</td>\n",
       "      <td>NaN</td>\n",
       "      <td>NaN</td>\n",
       "      <td>Cash</td>\n",
       "      <td>N</td>\n",
       "      <td>NaN</td>\n",
       "      <td>NaN</td>\n",
       "      <td>NaN</td>\n",
       "      <td>NaN</td>\n",
       "      <td>NaN</td>\n",
       "      <td>NaN</td>\n",
       "    </tr>\n",
       "    <tr>\n",
       "      <th>42535</th>\n",
       "      <td>NaN</td>\n",
       "      <td>NaN</td>\n",
       "      <td>5000.0</td>\n",
       "      <td>5000.0</td>\n",
       "      <td>0.0</td>\n",
       "      <td>36 months</td>\n",
       "      <td>7.75%</td>\n",
       "      <td>156.11</td>\n",
       "      <td>A</td>\n",
       "      <td>A3</td>\n",
       "      <td>...</td>\n",
       "      <td>NaN</td>\n",
       "      <td>NaN</td>\n",
       "      <td>Cash</td>\n",
       "      <td>N</td>\n",
       "      <td>NaN</td>\n",
       "      <td>NaN</td>\n",
       "      <td>NaN</td>\n",
       "      <td>NaN</td>\n",
       "      <td>NaN</td>\n",
       "      <td>NaN</td>\n",
       "    </tr>\n",
       "  </tbody>\n",
       "</table>\n",
       "<p>5 rows × 145 columns</p>\n",
       "</div>"
      ],
      "text/plain": [
       "        id  member_id  loan_amnt  funded_amnt  funded_amnt_inv        term  \\\n",
       "42531  NaN        NaN     3500.0       3500.0            225.0   36 months   \n",
       "42532  NaN        NaN     1000.0       1000.0              0.0   36 months   \n",
       "42533  NaN        NaN     2525.0       2525.0            225.0   36 months   \n",
       "42534  NaN        NaN     6500.0       6500.0              0.0   36 months   \n",
       "42535  NaN        NaN     5000.0       5000.0              0.0   36 months   \n",
       "\n",
       "      int_rate  installment grade sub_grade       ...        \\\n",
       "42531   10.28%       113.39     C        C1       ...         \n",
       "42532    9.64%        32.11     B        B4       ...         \n",
       "42533    9.33%        80.69     B        B3       ...         \n",
       "42534    8.38%       204.84     A        A5       ...         \n",
       "42535    7.75%       156.11     A        A3       ...         \n",
       "\n",
       "      hardship_payoff_balance_amount hardship_last_payment_amount  \\\n",
       "42531                            NaN                          NaN   \n",
       "42532                            NaN                          NaN   \n",
       "42533                            NaN                          NaN   \n",
       "42534                            NaN                          NaN   \n",
       "42535                            NaN                          NaN   \n",
       "\n",
       "      disbursement_method  debt_settlement_flag debt_settlement_flag_date  \\\n",
       "42531                Cash                     N                       NaN   \n",
       "42532                Cash                     N                       NaN   \n",
       "42533                Cash                     N                       NaN   \n",
       "42534                Cash                     N                       NaN   \n",
       "42535                Cash                     N                       NaN   \n",
       "\n",
       "      settlement_status settlement_date settlement_amount  \\\n",
       "42531               NaN             NaN               NaN   \n",
       "42532               NaN             NaN               NaN   \n",
       "42533               NaN             NaN               NaN   \n",
       "42534               NaN             NaN               NaN   \n",
       "42535               NaN             NaN               NaN   \n",
       "\n",
       "       settlement_percentage settlement_term  \n",
       "42531                    NaN             NaN  \n",
       "42532                    NaN             NaN  \n",
       "42533                    NaN             NaN  \n",
       "42534                    NaN             NaN  \n",
       "42535                    NaN             NaN  \n",
       "\n",
       "[5 rows x 145 columns]"
      ]
     },
     "execution_count": 4,
     "metadata": {},
     "output_type": "execute_result"
    }
   ],
   "source": [
    "# display the last 5 rows of the dataframe\n",
    "df.tail()"
   ]
  },
  {
   "cell_type": "markdown",
   "metadata": {},
   "source": [
    "# Task 2 - Exploratory Data Analysis (EDA)\n",
    "Next, we get to know the data that we are working with.  EDAs can be exhaustive - We want to gather insights on our dataset, identify trends, discovery data anomalies, etc.\n",
    "\n",
    "For our workshop, we will do a quick dive into several key fields to try and gain an understanding of the loans we are working with.  NOTE: This is not an exhaustive EDA.  There are plenty of deep dives that can be done on the variables present. "
   ]
  },
  {
   "cell_type": "markdown",
   "metadata": {},
   "source": [
    "#### a) Print a summary of the dataframe\n",
    "* Is this useful?\n",
    "* How do we correct this? "
   ]
  },
  {
   "cell_type": "code",
   "execution_count": 5,
   "metadata": {
    "scrolled": false
   },
   "outputs": [
    {
     "name": "stdout",
     "output_type": "stream",
     "text": [
      "<class 'pandas.core.frame.DataFrame'>\n",
      "RangeIndex: 42536 entries, 0 to 42535\n",
      "Data columns (total 145 columns):\n",
      "id                                            1 non-null object\n",
      "member_id                                     0 non-null float64\n",
      "loan_amnt                                     42535 non-null float64\n",
      "funded_amnt                                   42535 non-null float64\n",
      "funded_amnt_inv                               42535 non-null float64\n",
      "term                                          42535 non-null object\n",
      "int_rate                                      42535 non-null object\n",
      "installment                                   42535 non-null float64\n",
      "grade                                         42535 non-null object\n",
      "sub_grade                                     42535 non-null object\n",
      "emp_title                                     39909 non-null object\n",
      "emp_length                                    41423 non-null object\n",
      "home_ownership                                42535 non-null object\n",
      "annual_inc                                    42531 non-null float64\n",
      "verification_status                           42535 non-null object\n",
      "issue_d                                       42535 non-null object\n",
      "loan_status                                   42535 non-null object\n",
      "pymnt_plan                                    42535 non-null object\n",
      "url                                           0 non-null float64\n",
      "desc                                          29242 non-null object\n",
      "purpose                                       42535 non-null object\n",
      "title                                         42522 non-null object\n",
      "zip_code                                      42535 non-null object\n",
      "addr_state                                    42535 non-null object\n",
      "dti                                           42535 non-null float64\n",
      "delinq_2yrs                                   42506 non-null float64\n",
      "earliest_cr_line                              42506 non-null object\n",
      "inq_last_6mths                                42506 non-null float64\n",
      "mths_since_last_delinq                        15609 non-null float64\n",
      "mths_since_last_record                        3651 non-null float64\n",
      "open_acc                                      42506 non-null float64\n",
      "pub_rec                                       42506 non-null float64\n",
      "revol_bal                                     42535 non-null float64\n",
      "revol_util                                    42445 non-null object\n",
      "total_acc                                     42506 non-null float64\n",
      "initial_list_status                           42535 non-null object\n",
      "out_prncp                                     42535 non-null float64\n",
      "out_prncp_inv                                 42535 non-null float64\n",
      "total_pymnt                                   42535 non-null float64\n",
      "total_pymnt_inv                               42535 non-null float64\n",
      "total_rec_prncp                               42535 non-null float64\n",
      "total_rec_int                                 42535 non-null float64\n",
      "total_rec_late_fee                            42535 non-null float64\n",
      "recoveries                                    42535 non-null float64\n",
      "collection_recovery_fee                       42535 non-null float64\n",
      "last_pymnt_d                                  42452 non-null object\n",
      "last_pymnt_amnt                               42535 non-null float64\n",
      "next_pymnt_d                                  2749 non-null object\n",
      "last_credit_pull_d                            42531 non-null object\n",
      "collections_12_mths_ex_med                    42390 non-null float64\n",
      "mths_since_last_major_derog                   0 non-null float64\n",
      "policy_code                                   42535 non-null float64\n",
      "application_type                              42535 non-null object\n",
      "annual_inc_joint                              0 non-null float64\n",
      "dti_joint                                     0 non-null float64\n",
      "verification_status_joint                     0 non-null float64\n",
      "acc_now_delinq                                42506 non-null float64\n",
      "tot_coll_amt                                  0 non-null float64\n",
      "tot_cur_bal                                   0 non-null float64\n",
      "open_acc_6m                                   0 non-null float64\n",
      "open_act_il                                   0 non-null float64\n",
      "open_il_12m                                   0 non-null float64\n",
      "open_il_24m                                   0 non-null float64\n",
      "mths_since_rcnt_il                            0 non-null float64\n",
      "total_bal_il                                  0 non-null float64\n",
      "il_util                                       0 non-null float64\n",
      "open_rv_12m                                   0 non-null float64\n",
      "open_rv_24m                                   0 non-null float64\n",
      "max_bal_bc                                    0 non-null float64\n",
      "all_util                                      0 non-null float64\n",
      "total_rev_hi_lim                              0 non-null float64\n",
      "inq_fi                                        0 non-null float64\n",
      "total_cu_tl                                   0 non-null float64\n",
      "inq_last_12m                                  0 non-null float64\n",
      "acc_open_past_24mths                          0 non-null float64\n",
      "avg_cur_bal                                   0 non-null float64\n",
      "bc_open_to_buy                                0 non-null float64\n",
      "bc_util                                       0 non-null float64\n",
      "chargeoff_within_12_mths                      42390 non-null float64\n",
      "delinq_amnt                                   42506 non-null float64\n",
      "mo_sin_old_il_acct                            0 non-null float64\n",
      "mo_sin_old_rev_tl_op                          0 non-null float64\n",
      "mo_sin_rcnt_rev_tl_op                         0 non-null float64\n",
      "mo_sin_rcnt_tl                                0 non-null float64\n",
      "mort_acc                                      0 non-null float64\n",
      "mths_since_recent_bc                          0 non-null float64\n",
      "mths_since_recent_bc_dlq                      0 non-null float64\n",
      "mths_since_recent_inq                         0 non-null float64\n",
      "mths_since_recent_revol_delinq                0 non-null float64\n",
      "num_accts_ever_120_pd                         0 non-null float64\n",
      "num_actv_bc_tl                                0 non-null float64\n",
      "num_actv_rev_tl                               0 non-null float64\n",
      "num_bc_sats                                   0 non-null float64\n",
      "num_bc_tl                                     0 non-null float64\n",
      "num_il_tl                                     0 non-null float64\n",
      "num_op_rev_tl                                 0 non-null float64\n",
      "num_rev_accts                                 0 non-null float64\n",
      "num_rev_tl_bal_gt_0                           0 non-null float64\n",
      "num_sats                                      0 non-null float64\n",
      "num_tl_120dpd_2m                              0 non-null float64\n",
      "num_tl_30dpd                                  0 non-null float64\n",
      "num_tl_90g_dpd_24m                            0 non-null float64\n",
      "num_tl_op_past_12m                            0 non-null float64\n",
      "pct_tl_nvr_dlq                                0 non-null float64\n",
      "percent_bc_gt_75                              0 non-null float64\n",
      "pub_rec_bankruptcies                          41170 non-null float64\n",
      "tax_liens                                     42430 non-null float64\n",
      "tot_hi_cred_lim                               0 non-null float64\n",
      "total_bal_ex_mort                             0 non-null float64\n",
      "total_bc_limit                                0 non-null float64\n",
      "total_il_high_credit_limit                    0 non-null float64\n",
      "revol_bal_joint                               0 non-null float64\n",
      "sec_app_earliest_cr_line                      0 non-null float64\n",
      "sec_app_inq_last_6mths                        0 non-null float64\n",
      "sec_app_mort_acc                              0 non-null float64\n",
      "sec_app_open_acc                              0 non-null float64\n",
      "sec_app_revol_util                            0 non-null float64\n",
      "sec_app_open_act_il                           0 non-null float64\n",
      "sec_app_num_rev_accts                         0 non-null float64\n",
      "sec_app_chargeoff_within_12_mths              0 non-null float64\n",
      "sec_app_collections_12_mths_ex_med            0 non-null float64\n",
      "sec_app_mths_since_last_major_derog           0 non-null float64\n",
      "hardship_flag                                 42535 non-null object\n",
      "hardship_type                                 0 non-null float64\n",
      "hardship_reason                               0 non-null float64\n",
      "hardship_status                               0 non-null float64\n",
      "deferral_term                                 0 non-null float64\n",
      "hardship_amount                               0 non-null float64\n",
      "hardship_start_date                           0 non-null float64\n",
      "hardship_end_date                             0 non-null float64\n",
      "payment_plan_start_date                       0 non-null float64\n",
      "hardship_length                               0 non-null float64\n",
      "hardship_dpd                                  0 non-null float64\n",
      "hardship_loan_status                          0 non-null float64\n",
      "orig_projected_additional_accrued_interest    0 non-null float64\n",
      "hardship_payoff_balance_amount                0 non-null float64\n",
      "hardship_last_payment_amount                  0 non-null float64\n",
      "disbursement_method                           42535 non-null object\n",
      "debt_settlement_flag                          42535 non-null object\n",
      "debt_settlement_flag_date                     160 non-null object\n",
      "settlement_status                             160 non-null object\n",
      "settlement_date                               160 non-null object\n",
      "settlement_amount                             160 non-null float64\n",
      "settlement_percentage                         160 non-null float64\n",
      "settlement_term                               160 non-null float64\n",
      "dtypes: float64(115), object(30)\n",
      "memory usage: 47.1+ MB\n"
     ]
    }
   ],
   "source": [
    "# print a summary of the dataframe\n",
    "# - verbose will allow us to print all columns (by default, pandas will truncate a large number of columns)\n",
    "# - null_counts will allow us to print the number of non-null values within each column\n",
    "df.info(verbose=True, null_counts=True)"
   ]
  },
  {
   "cell_type": "markdown",
   "metadata": {},
   "source": [
    "#### b) Print the descriptive statistics for the column named 'loan_amnt'"
   ]
  },
  {
   "cell_type": "code",
   "execution_count": 6,
   "metadata": {},
   "outputs": [
    {
     "data": {
      "text/plain": [
       "count    42535.000000\n",
       "mean     11089.722581\n",
       "std       7410.938391\n",
       "min        500.000000\n",
       "25%       5200.000000\n",
       "50%       9700.000000\n",
       "75%      15000.000000\n",
       "max      35000.000000\n",
       "Name: loan_amnt, dtype: float64"
      ]
     },
     "execution_count": 6,
     "metadata": {},
     "output_type": "execute_result"
    }
   ],
   "source": [
    "df.loan_amnt.describe()"
   ]
  },
  {
   "cell_type": "markdown",
   "metadata": {},
   "source": [
    "## Removing unneccessary data\n",
    "As noted by the above summary, we have a ton of data columns within this dataset - many of which contain missing data and others which will not provide any predictive power for our model. \n",
    "\n",
    "In order to simplify this workshop, we will drop a large number of data columns.  The list of columns is defined below:"
   ]
  },
  {
   "cell_type": "code",
   "execution_count": 7,
   "metadata": {},
   "outputs": [],
   "source": [
    "cols_to_drop = ['id', 'emp_title','desc', 'mths_since_last_delinq', 'mths_since_last_record','next_pymnt_d',\n",
    "               'settlement_status', 'settlement_date',  'settlement_amount', 'settlement_percentage', \n",
    "                'settlement_term', 'debt_settlement_flag_date', 'pub_rec_bankruptcies', 'application_type',\n",
    "                'annual_inc', 'verification_status', 'debt_settlement_flag', 'disbursement_method', \n",
    "                'hardship_flag', 'initial_list_status', 'pymnt_plan', 'zip_code', 'earliest_cr_line', 'title',\n",
    "                'revol_util', 'last_pymnt_d', 'last_credit_pull_d', 'total_pymnt', 'total_pymnt_inv', 'total_rec_int',\n",
    "                'total_rec_late_fee', 'total_rec_prncp', 'funded_amnt', 'funded_amnt_inv', 'out_prncp', 'out_prncp_inv', \n",
    "                'last_pymnt_amnt',  'tax_liens', 'delinq_amnt', 'policy_code', 'collections_12_mths_ex_med', \n",
    "                'chargeoff_within_12_mths']"
   ]
  },
  {
   "cell_type": "markdown",
   "metadata": {},
   "source": [
    "#### c) Drop unneccessary data columns"
   ]
  },
  {
   "cell_type": "code",
   "execution_count": 8,
   "metadata": {},
   "outputs": [],
   "source": [
    "# drop columns\n",
    "# - labels indicates which columns we want to drop\n",
    "# - axis=1 indicates we are dropping columns\n",
    "# - inplace=True indicates we will drop column immediately\n",
    "df.drop(labels=cols_to_drop, axis=1, inplace=True)"
   ]
  },
  {
   "cell_type": "markdown",
   "metadata": {},
   "source": [
    "#### d) Drop columns containing all null values"
   ]
  },
  {
   "cell_type": "code",
   "execution_count": 9,
   "metadata": {},
   "outputs": [],
   "source": [
    "# drop columns containing null data\n",
    "# - axis=1 indicates we want to drop columns\n",
    "# - how=all indicates that we will only drop a column if ALL values are null\n",
    "# - inplace indicates that we will remove columns from the listed dataframe rather than returning a copy\n",
    "df.dropna(axis=1, how='all', inplace=True)"
   ]
  },
  {
   "cell_type": "markdown",
   "metadata": {},
   "source": [
    "#### e) Drop any row containing null data\n",
    "In a normal circumstance, we would take more care into retaining as much data as possible for our model.  In this workshop where we are constrained on time, we will ruthlessly drop any row containing null data. "
   ]
  },
  {
   "cell_type": "code",
   "execution_count": 10,
   "metadata": {},
   "outputs": [],
   "source": [
    "# drop data\n",
    "# - axis=0 means we will drop rows\n",
    "# - how=any means we will drop rows containing ANY null data\n",
    "df.dropna(axis=0, how='any', inplace=True)"
   ]
  },
  {
   "cell_type": "markdown",
   "metadata": {},
   "source": [
    "#### f) Display a summary of dataframe"
   ]
  },
  {
   "cell_type": "code",
   "execution_count": 11,
   "metadata": {},
   "outputs": [
    {
     "name": "stdout",
     "output_type": "stream",
     "text": [
      "<class 'pandas.core.frame.DataFrame'>\n",
      "Int64Index: 41394 entries, 0 to 42514\n",
      "Data columns (total 22 columns):\n",
      "loan_amnt                  41394 non-null float64\n",
      "term                       41394 non-null object\n",
      "int_rate                   41394 non-null object\n",
      "installment                41394 non-null float64\n",
      "grade                      41394 non-null object\n",
      "sub_grade                  41394 non-null object\n",
      "emp_length                 41394 non-null object\n",
      "home_ownership             41394 non-null object\n",
      "issue_d                    41394 non-null object\n",
      "loan_status                41394 non-null object\n",
      "purpose                    41394 non-null object\n",
      "addr_state                 41394 non-null object\n",
      "dti                        41394 non-null float64\n",
      "delinq_2yrs                41394 non-null float64\n",
      "inq_last_6mths             41394 non-null float64\n",
      "open_acc                   41394 non-null float64\n",
      "pub_rec                    41394 non-null float64\n",
      "revol_bal                  41394 non-null float64\n",
      "total_acc                  41394 non-null float64\n",
      "recoveries                 41394 non-null float64\n",
      "collection_recovery_fee    41394 non-null float64\n",
      "acc_now_delinq             41394 non-null float64\n",
      "dtypes: float64(12), object(10)\n",
      "memory usage: 7.3+ MB\n"
     ]
    }
   ],
   "source": [
    "# display dataframe summary\n",
    "df.info()"
   ]
  },
  {
   "cell_type": "markdown",
   "metadata": {},
   "source": [
    "## Adjusting Data Types\n",
    "For the most part, Machine Learning models are only capable of handling numeric values.  We must prepare our data to ensure columns are correctly defined"
   ]
  },
  {
   "cell_type": "markdown",
   "metadata": {},
   "source": [
    "### Dates\n",
    "Dates cannot be interpreted by machine learning models.  However, we can take components of a date to be used in a model.  In this section we will process our issue_d column and capture information related to the issue date of a loan. "
   ]
  },
  {
   "cell_type": "markdown",
   "metadata": {},
   "source": [
    "#### g) Convert issue_d into a datetime column"
   ]
  },
  {
   "cell_type": "code",
   "execution_count": 12,
   "metadata": {},
   "outputs": [],
   "source": [
    "df['issue_d'] = pd.to_datetime(df.issue_d)"
   ]
  },
  {
   "cell_type": "markdown",
   "metadata": {},
   "source": [
    "#### h) Create two new features to capture the issue date 'year' and 'month'"
   ]
  },
  {
   "cell_type": "code",
   "execution_count": 13,
   "metadata": {},
   "outputs": [],
   "source": [
    "df['issue_d_year'] = df.issue_d.dt.year\n",
    "df['issue_d_month'] = df.issue_d.dt.month"
   ]
  },
  {
   "cell_type": "markdown",
   "metadata": {},
   "source": [
    "### Categorical vs Numeric\n",
    "When creating your model, you will often be faced with the challenge of deciding whether or not a value is categorical or numeric.  For example - is age a categorical value or numeric value?  Is the month in which a loan is issued a categorical value or numeric value? "
   ]
  },
  {
   "cell_type": "markdown",
   "metadata": {},
   "source": [
    "#### i) Convert the issue date year and month into a categorical value"
   ]
  },
  {
   "cell_type": "code",
   "execution_count": 14,
   "metadata": {},
   "outputs": [],
   "source": [
    "df['issue_d_year'] = pd.Categorical(df.issue_d_year)\n",
    "df['issue_d_month'] = pd.Categorical(df.issue_d_month)"
   ]
  },
  {
   "cell_type": "markdown",
   "metadata": {},
   "source": [
    "#### j) Convert int_rate into a numerical value"
   ]
  },
  {
   "cell_type": "code",
   "execution_count": 15,
   "metadata": {},
   "outputs": [],
   "source": [
    "df['int_rate'] = [pd.to_numeric(i[:-1]) for i in df.int_rate]"
   ]
  },
  {
   "cell_type": "markdown",
   "metadata": {},
   "source": [
    "#### k) Covert the remaining 'object' columns into categorical values"
   ]
  },
  {
   "cell_type": "code",
   "execution_count": 16,
   "metadata": {},
   "outputs": [],
   "source": [
    "## convert each object column into categorical \n",
    "for c in df.select_dtypes(include=['object']):\n",
    "    df[c] = pd.Categorical(df[c])"
   ]
  },
  {
   "cell_type": "markdown",
   "metadata": {},
   "source": [
    "## Identifying Default Loans\n",
    "The current dataset does not provide a column that identifies whether or not a loan has defaulted.  A loan status column provides us insight into the current stats of a loan.  Looking further at the documentation online, we find that there are specific statuses that identify loans in good health.\n",
    "\n",
    "Using these 'good health' statuses, we will create a feature that identifies whether or not a loan has defaulted, or expected to go into default. "
   ]
  },
  {
   "cell_type": "code",
   "execution_count": 17,
   "metadata": {},
   "outputs": [],
   "source": [
    "## Good loan status\n",
    "good_status = [\n",
    "    'Current',\n",
    "    'Fully Paid',\n",
    "    'Issued',\n",
    "    'Does not meet the credit policy. Status:Fully Paid',\n",
    "    'In Grace Period'\n",
    "]"
   ]
  },
  {
   "cell_type": "markdown",
   "metadata": {},
   "source": [
    "#### l) Create a new field named 'is_default' that identifies whether or not a loan is in default"
   ]
  },
  {
   "cell_type": "code",
   "execution_count": 18,
   "metadata": {},
   "outputs": [],
   "source": [
    "df['is_default'] = [0 if s in good_status else 1 for s in df.loan_status]"
   ]
  },
  {
   "cell_type": "markdown",
   "metadata": {},
   "source": [
    "#### j) What is the breakdown of loans (default vs non-default)? "
   ]
  },
  {
   "cell_type": "code",
   "execution_count": 19,
   "metadata": {
    "scrolled": true
   },
   "outputs": [
    {
     "data": {
      "text/plain": [
       "0    35211\n",
       "1     6183\n",
       "Name: is_default, dtype: int64"
      ]
     },
     "execution_count": 19,
     "metadata": {},
     "output_type": "execute_result"
    }
   ],
   "source": [
    "df.is_default.value_counts()"
   ]
  },
  {
   "cell_type": "markdown",
   "metadata": {},
   "source": [
    "#### Lets take a look at a breakdown of default vs non-default laons"
   ]
  },
  {
   "cell_type": "code",
   "execution_count": 20,
   "metadata": {},
   "outputs": [
    {
     "data": {
      "image/png": "[encoded data removed]",
      "text/plain": [
       "<Figure size 720x432 with 1 Axes>"
      ]
     },
     "metadata": {},
     "output_type": "display_data"
    }
   ],
   "source": [
    "# determine data\n",
    "default = df[df.is_default==1].loan_amnt\n",
    "non_default = df[df.is_default==0].loan_amnt\n",
    "\n",
    "fig, ax = plt.subplots(figsize=(10,6))\n",
    "\n",
    "# create plots\n",
    "ax.hist(non_default, bins=7, stacked=True, label='non-default')\n",
    "ax.hist(default, bins=7, stacked=True, label='default')\n",
    "\n",
    "# update titles\n",
    "ax.set_title('Default vs Non-Default Loans')\n",
    "ax.set_xlabel('Loan Amount ($)')\n",
    "\n",
    "# setup labels\n",
    "ax.xaxis.set_major_formatter(StrMethodFormatter('{x:,.0f}'))\n",
    "ax.yaxis.set_major_formatter(StrMethodFormatter('{x:,.0f}'))\n",
    "\n",
    "# set legend\n",
    "ax.legend()\n",
    "\n",
    "plt.show()"
   ]
  },
  {
   "cell_type": "markdown",
   "metadata": {},
   "source": [
    "### Explore Loan Interest Rates"
   ]
  },
  {
   "cell_type": "code",
   "execution_count": 21,
   "metadata": {},
   "outputs": [
    {
     "data": {
      "image/png": "[encoded data removed]",
      "text/plain": [
       "<Figure size 1008x432 with 1 Axes>"
      ]
     },
     "metadata": {},
     "output_type": "display_data"
    }
   ],
   "source": [
    "# setup bins\n",
    "bins = np.arange(0, 35, 2.5)\n",
    "\n",
    "fig, ax = plt.subplots(figsize=(14,6))\n",
    "\n",
    "# create the histogram\n",
    "values = df.int_rate\n",
    "ax.hist(values, bins=bins, edgecolor='lightgrey')\n",
    "\n",
    "# setup labels\n",
    "ax.set_xlabel('Interest Rates (%)')\n",
    "ax.xaxis.set_major_formatter(StrMethodFormatter('{x:,.1f}'))\n",
    "ax.yaxis.set_major_formatter(StrMethodFormatter('{x:,.0f}'))\n",
    "\n",
    "plt.show()"
   ]
  },
  {
   "cell_type": "code",
   "execution_count": 22,
   "metadata": {},
   "outputs": [
    {
     "data": {
      "image/png": "[encoded data removed]",
      "text/plain": [
       "<Figure size 1008x1296 with 7 Axes>"
      ]
     },
     "metadata": {},
     "output_type": "display_data"
    }
   ],
   "source": [
    "# find number of grades\n",
    "grades = df.grade.unique()\n",
    "\n",
    "# create a colormap to represent each grade\n",
    "cm = plt.cm.rainbow\n",
    "colors = cm(np.linspace(0, 1, len(grades)))\n",
    "\n",
    "# Create a figure with nrows= total number of grades\n",
    "fig, axs = plt.subplots(len(grades), sharey=True, figsize=(14,18))\n",
    "\n",
    "# for each grade, create a graph\n",
    "for i, g in enumerate(sorted(grades)):\n",
    "    line = axs[i].hist(df[df.grade==g].int_rate, bins=bins, color=colors[i], label=g, edgecolor='lightblue')\n",
    "    axs[i].set_xlabel('Interest Rate (%)')\n",
    "    axs[i].legend()\n",
    "\n",
    "# Set labels\n",
    "axs[0].set_title('Interest Frequency by Grade')\n",
    "\n",
    "# adjust spacing between subplots\n",
    "plt.subplots_adjust(hspace=0.5)\n",
    "\n",
    "plt.show()"
   ]
  },
  {
   "cell_type": "markdown",
   "metadata": {},
   "source": [
    "### Explore Loans by issue_d"
   ]
  },
  {
   "cell_type": "code",
   "execution_count": 23,
   "metadata": {},
   "outputs": [
    {
     "data": {
      "image/png": "[encoded data removed]",
      "text/plain": [
       "<Figure size 1008x432 with 1 Axes>"
      ]
     },
     "metadata": {},
     "output_type": "display_data"
    }
   ],
   "source": [
    "# find number of grades\n",
    "grades = df.grade.unique()\n",
    "\n",
    "# create a colormap to represent each grade\n",
    "cm = plt.cm.rainbow\n",
    "colors = cm(np.linspace(0, 1, len(grades)))\n",
    "\n",
    "# create plot\n",
    "df.groupby(['issue_d', 'grade']).loan_amnt.sum().unstack().plot.area(figsize=(14,6), color=colors)\n",
    "\n",
    "# set labels\n",
    "plt.title('Loans Issued by Date & Grade')\n",
    "plt.ylabel('Amount ($)')\n",
    "plt.xlabel('Date Issued (Month/Year)')\n",
    "\n",
    "# get current axis\n",
    "ax = plt.gca()\n",
    "\n",
    "# disable scientific notation on the y axis\n",
    "ax.ticklabel_format(axis='y', style='plain')\n",
    "\n",
    "# format values with comma\n",
    "ax.yaxis.set_major_formatter(StrMethodFormatter('{x:,.0f}'))\n",
    "\n",
    "plt.show()"
   ]
  },
  {
   "cell_type": "markdown",
   "metadata": {},
   "source": [
    "### Explore Loan Purpose"
   ]
  },
  {
   "cell_type": "code",
   "execution_count": 24,
   "metadata": {},
   "outputs": [
    {
     "data": {
      "text/html": [
       "<div>\n",
       "<style scoped>\n",
       "    .dataframe tbody tr th:only-of-type {\n",
       "        vertical-align: middle;\n",
       "    }\n",
       "\n",
       "    .dataframe tbody tr th {\n",
       "        vertical-align: top;\n",
       "    }\n",
       "\n",
       "    .dataframe thead th {\n",
       "        text-align: right;\n",
       "    }\n",
       "</style>\n",
       "<table border=\"1\" class=\"dataframe\">\n",
       "  <thead>\n",
       "    <tr style=\"text-align: right;\">\n",
       "      <th></th>\n",
       "      <th>Non-default</th>\n",
       "      <th>Default</th>\n",
       "    </tr>\n",
       "    <tr>\n",
       "      <th>Purpose</th>\n",
       "      <th></th>\n",
       "      <th></th>\n",
       "    </tr>\n",
       "  </thead>\n",
       "  <tbody>\n",
       "    <tr>\n",
       "      <th>small_business</th>\n",
       "      <td>0.723535</td>\n",
       "      <td>0.276465</td>\n",
       "    </tr>\n",
       "    <tr>\n",
       "      <th>educational</th>\n",
       "      <td>0.796610</td>\n",
       "      <td>0.203390</td>\n",
       "    </tr>\n",
       "    <tr>\n",
       "      <th>renewable_energy</th>\n",
       "      <td>0.806122</td>\n",
       "      <td>0.193878</td>\n",
       "    </tr>\n",
       "    <tr>\n",
       "      <th>house</th>\n",
       "      <td>0.830097</td>\n",
       "      <td>0.169903</td>\n",
       "    </tr>\n",
       "    <tr>\n",
       "      <th>other</th>\n",
       "      <td>0.830537</td>\n",
       "      <td>0.169463</td>\n",
       "    </tr>\n",
       "    <tr>\n",
       "      <th>medical</th>\n",
       "      <td>0.833333</td>\n",
       "      <td>0.166667</td>\n",
       "    </tr>\n",
       "    <tr>\n",
       "      <th>moving</th>\n",
       "      <td>0.837479</td>\n",
       "      <td>0.162521</td>\n",
       "    </tr>\n",
       "    <tr>\n",
       "      <th>debt_consolidation</th>\n",
       "      <td>0.845574</td>\n",
       "      <td>0.154426</td>\n",
       "    </tr>\n",
       "    <tr>\n",
       "      <th>vacation</th>\n",
       "      <td>0.855978</td>\n",
       "      <td>0.144022</td>\n",
       "    </tr>\n",
       "    <tr>\n",
       "      <th>home_improvement</th>\n",
       "      <td>0.869958</td>\n",
       "      <td>0.130042</td>\n",
       "    </tr>\n",
       "    <tr>\n",
       "      <th>credit_card</th>\n",
       "      <td>0.890719</td>\n",
       "      <td>0.109281</td>\n",
       "    </tr>\n",
       "    <tr>\n",
       "      <th>car</th>\n",
       "      <td>0.892514</td>\n",
       "      <td>0.107486</td>\n",
       "    </tr>\n",
       "    <tr>\n",
       "      <th>wedding</th>\n",
       "      <td>0.894046</td>\n",
       "      <td>0.105954</td>\n",
       "    </tr>\n",
       "    <tr>\n",
       "      <th>major_purchase</th>\n",
       "      <td>0.895889</td>\n",
       "      <td>0.104111</td>\n",
       "    </tr>\n",
       "  </tbody>\n",
       "</table>\n",
       "</div>"
      ],
      "text/plain": [
       "                    Non-default   Default\n",
       "Purpose                                  \n",
       "small_business         0.723535  0.276465\n",
       "educational            0.796610  0.203390\n",
       "renewable_energy       0.806122  0.193878\n",
       "house                  0.830097  0.169903\n",
       "other                  0.830537  0.169463\n",
       "medical                0.833333  0.166667\n",
       "moving                 0.837479  0.162521\n",
       "debt_consolidation     0.845574  0.154426\n",
       "vacation               0.855978  0.144022\n",
       "home_improvement       0.869958  0.130042\n",
       "credit_card            0.890719  0.109281\n",
       "car                    0.892514  0.107486\n",
       "wedding                0.894046  0.105954\n",
       "major_purchase         0.895889  0.104111"
      ]
     },
     "execution_count": 24,
     "metadata": {},
     "output_type": "execute_result"
    }
   ],
   "source": [
    "# Do we know what types of loans have the best chance of being repaid? \n",
    "loans = []\n",
    "\n",
    "for p in df.purpose.unique():\n",
    "    good = np.sum([(df.purpose==p) & (df.is_default==0)]) / np.sum(df.purpose==p)\n",
    "    bad = np.sum([(df.purpose==p) & (df.is_default==1)]) / np.sum(df.purpose==p)\n",
    "\n",
    "    loans.append([p, good, bad])\n",
    "\n",
    "loans = pd.DataFrame(loans)\n",
    "loans.columns = ['Purpose', 'Non-default', 'Default']\n",
    "loans.set_index('Purpose', inplace=True)\n",
    "loans.sort_values('Non-default')"
   ]
  },
  {
   "cell_type": "markdown",
   "metadata": {},
   "source": [
    "### Exploring Loan Amounts"
   ]
  },
  {
   "cell_type": "markdown",
   "metadata": {},
   "source": [
    "#### k) Create a histogram for the loan_amnts columns"
   ]
  },
  {
   "cell_type": "code",
   "execution_count": 25,
   "metadata": {},
   "outputs": [
    {
     "data": {
      "image/png": "[encoded data removed]",
      "text/plain": [
       "<Figure size 720x432 with 1 Axes>"
      ]
     },
     "metadata": {},
     "output_type": "display_data"
    }
   ],
   "source": [
    "from matplotlib.ticker import StrMethodFormatter\n",
    "\n",
    "# setup plot\n",
    "fig, ax = plt.subplots(figsize=(10, 6))\n",
    "\n",
    "# create graph\n",
    "values = df.loan_amnt\n",
    "ax.hist(values, bins=7, edgecolor='lightblue')\n",
    "\n",
    "# setup titles\n",
    "ax.set_title('Loan Distribution')\n",
    "ax.set_xlabel('Loan Amount ($)')\n",
    "ax.set_ylabel('Frequency')\n",
    "\n",
    "# format ticks\n",
    "ax.xaxis.set_major_formatter(StrMethodFormatter('{x:,.0f}'))\n",
    "ax.yaxis.set_major_formatter(StrMethodFormatter('{x:,.0f}'))\n",
    "\n",
    "# show\n",
    "plt.show()"
   ]
  },
  {
   "cell_type": "code",
   "execution_count": 53,
   "metadata": {},
   "outputs": [
    {
     "name": "stdout",
     "output_type": "stream",
     "text": [
      "<class 'pandas.core.frame.DataFrame'>\n",
      "Int64Index: 41394 entries, 0 to 42514\n",
      "Data columns (total 23 columns):\n",
      "loan_amnt         41394 non-null float64\n",
      "term              41394 non-null category\n",
      "int_rate          41394 non-null float64\n",
      "installment       41394 non-null float64\n",
      "grade             41394 non-null category\n",
      "sub_grade         41394 non-null category\n",
      "emp_length        41394 non-null category\n",
      "home_ownership    41394 non-null category\n",
      "issue_d           41394 non-null datetime64[ns]\n",
      "loan_status       41394 non-null category\n",
      "purpose           41394 non-null category\n",
      "addr_state        41394 non-null category\n",
      "dti               41394 non-null float64\n",
      "delinq_2yrs       41394 non-null float64\n",
      "inq_last_6mths    41394 non-null float64\n",
      "open_acc          41394 non-null float64\n",
      "pub_rec           41394 non-null float64\n",
      "revol_bal         41394 non-null float64\n",
      "recoveries        41394 non-null float64\n",
      "acc_now_delinq    41394 non-null float64\n",
      "issue_d_year      41394 non-null category\n",
      "issue_d_month     41394 non-null category\n",
      "is_default        41394 non-null int64\n",
      "dtypes: category(10), datetime64[ns](1), float64(11), int64(1)\n",
      "memory usage: 4.8 MB\n"
     ]
    }
   ],
   "source": [
    "df.info()"
   ]
  },
  {
   "cell_type": "markdown",
   "metadata": {},
   "source": [
    "## Correlation Matix\n",
    "A correlation matix allows you to see how well the features in your model are correlated to your target variable.  The better the correlation, the more predictive power that feature contains. \n",
    "\n",
    "It also allows you to see features that might be correlated to one another and therefore should be removed from your model. "
   ]
  },
  {
   "cell_type": "code",
   "execution_count": 26,
   "metadata": {},
   "outputs": [
    {
     "data": {
      "image/png": "[encoded data removed]",
      "text/plain": [
       "<Figure size 1008x1008 with 2 Axes>"
      ]
     },
     "metadata": {},
     "output_type": "display_data"
    }
   ],
   "source": [
    "# create plot\n",
    "f, ax = plt.subplots(figsize=(14, 14))\n",
    "corr = df.corr()\n",
    "sns.heatmap(corr, mask=np.zeros_like(corr, dtype=np.bool), cmap=sns.diverging_palette(220, 10, as_cmap=True),\n",
    "            square=True, ax=ax, annot=True, fmt='.1f')\n",
    "\n",
    "plt.show()"
   ]
  },
  {
   "cell_type": "markdown",
   "metadata": {},
   "source": [
    "### Removing Multicollinearity\n",
    "In order to ensure we have a stable model, I will remove total_acc & collection_recovery_fee, which appear to have high correlation with existing variables in the model. "
   ]
  },
  {
   "cell_type": "code",
   "execution_count": 27,
   "metadata": {},
   "outputs": [],
   "source": [
    "drop_corr_feat = ['total_acc', 'collection_recovery_fee']\n",
    "\n",
    "df.drop(labels=drop_corr_feat, axis=1, inplace=True)"
   ]
  },
  {
   "cell_type": "markdown",
   "metadata": {},
   "source": [
    "## Task 3 - Model Building\n",
    "We've done a fair amout of data prep already - our next step is to begin modeling building.\n",
    "\n",
    "Our goal for this classification exercise is to create a model that predicts whether or not a loanee will default.  In order for this tomwork, we need to build a model using only completed loans (meaning loans that have been fully repaid or defaulted). \n",
    "\n",
    "We will filter our dataset to remove any loans that have not been completed."
   ]
  },
  {
   "cell_type": "markdown",
   "metadata": {},
   "source": [
    "#### l) Remove loans which are not in a completed_loan_status"
   ]
  },
  {
   "cell_type": "code",
   "execution_count": 28,
   "metadata": {},
   "outputs": [],
   "source": [
    "completed_loan_status = ['Fully Paid', \n",
    "                         'Charged Off', \n",
    "                         'Default',\n",
    "                         'Late (16-30 days)',\n",
    "                         'Late (31-120 days)'\n",
    "                        ]"
   ]
  },
  {
   "cell_type": "code",
   "execution_count": 29,
   "metadata": {},
   "outputs": [],
   "source": [
    "model_data = df[df.loan_status.isin(completed_loan_status)].copy()"
   ]
  },
  {
   "cell_type": "markdown",
   "metadata": {},
   "source": [
    "In our current dataset, we have several columns which are heavily correlated to the status of a loan.  We need to remove these values from our training data as we want to ensure we can predict default status based on data available at the time of the loan. \n",
    "\n",
    "Note: we will also include 'issue_d' within this list - as it is a datetime column and not required for our model."
   ]
  },
  {
   "cell_type": "markdown",
   "metadata": {},
   "source": [
    "#### j) Remove the following columns from our dataset"
   ]
  },
  {
   "cell_type": "code",
   "execution_count": 30,
   "metadata": {},
   "outputs": [],
   "source": [
    "cols_to_drop = ['grade', 'sub_grade', 'issue_d', 'loan_status']"
   ]
  },
  {
   "cell_type": "code",
   "execution_count": 31,
   "metadata": {},
   "outputs": [],
   "source": [
    "model_data.drop(labels=cols_to_drop, axis=1, inplace=True)"
   ]
  },
  {
   "cell_type": "code",
   "execution_count": 32,
   "metadata": {},
   "outputs": [
    {
     "name": "stdout",
     "output_type": "stream",
     "text": [
      "<class 'pandas.core.frame.DataFrame'>\n",
      "Int64Index: 38708 entries, 0 to 39785\n",
      "Data columns (total 19 columns):\n",
      "loan_amnt         38708 non-null float64\n",
      "term              38708 non-null category\n",
      "int_rate          38708 non-null float64\n",
      "installment       38708 non-null float64\n",
      "emp_length        38708 non-null category\n",
      "home_ownership    38708 non-null category\n",
      "purpose           38708 non-null category\n",
      "addr_state        38708 non-null category\n",
      "dti               38708 non-null float64\n",
      "delinq_2yrs       38708 non-null float64\n",
      "inq_last_6mths    38708 non-null float64\n",
      "open_acc          38708 non-null float64\n",
      "pub_rec           38708 non-null float64\n",
      "revol_bal         38708 non-null float64\n",
      "recoveries        38708 non-null float64\n",
      "acc_now_delinq    38708 non-null float64\n",
      "issue_d_year      38708 non-null category\n",
      "issue_d_month     38708 non-null category\n",
      "is_default        38708 non-null int64\n",
      "dtypes: category(7), float64(11), int64(1)\n",
      "memory usage: 4.1 MB\n"
     ]
    }
   ],
   "source": [
    "model_data.info()"
   ]
  },
  {
   "cell_type": "markdown",
   "metadata": {},
   "source": [
    "### Define Model Data (X, y)\n",
    "We need to split our data into two datasets representing the features of the model (predictors) and the target (outcome).  \n",
    "\n",
    "Remember that our machine learning model is only able to consume numeric values.  We need to convert categorical values into numbers prior to training our model. "
   ]
  },
  {
   "cell_type": "markdown",
   "metadata": {},
   "source": [
    "#### k) Define our X & y datasets\n",
    "* How do the columns change after converting categorical values? "
   ]
  },
  {
   "cell_type": "code",
   "execution_count": 33,
   "metadata": {},
   "outputs": [],
   "source": [
    "## Defining model data\n",
    "X = pd.get_dummies(model_data.drop(labels=['is_default'], axis=1))\n",
    "y = model_data.is_default"
   ]
  },
  {
   "cell_type": "markdown",
   "metadata": {},
   "source": [
    "### Train Test Split\n",
    "It is important to split our data into training & testing datasets.  This allows us to validate our model using data it has never seen before. "
   ]
  },
  {
   "cell_type": "markdown",
   "metadata": {},
   "source": [
    "#### l) Split our X & Y data into training and testing datasets"
   ]
  },
  {
   "cell_type": "code",
   "execution_count": 34,
   "metadata": {},
   "outputs": [],
   "source": [
    "# split our data\n",
    "X_train, X_test, y_train, y_test = train_test_split(X, y, test_size=0.2, random_state=42)"
   ]
  },
  {
   "cell_type": "markdown",
   "metadata": {},
   "source": [
    "### Scale Data\n",
    "Scaling the data ensures that values are compared on the same scale - for example, it would be hard to compare annual income and age.  Scaling the data allows us to bring these values down to a simliar scale in which the machine learning algorithm is able to weight the values approparitely. "
   ]
  },
  {
   "cell_type": "markdown",
   "metadata": {},
   "source": [
    "#### m) Define a StandardScaler.  Scale the X_train & X_test datasets"
   ]
  },
  {
   "cell_type": "code",
   "execution_count": 35,
   "metadata": {},
   "outputs": [],
   "source": [
    "# Create a scaler\n",
    "sc = StandardScaler()\n",
    "\n",
    "# fit & transform the training data\n",
    "X_train_scaled = sc.fit_transform(X_train)\n",
    "\n",
    "# we only want to transform the text data\n",
    "X_test_scaled = sc.transform(X_test)"
   ]
  },
  {
   "cell_type": "markdown",
   "metadata": {},
   "source": [
    "### Create Classifier\n",
    "Our data is ready to go.  The next step is to create a classifier.  For our example, we will utilize Logistic Regression.  \n",
    "\n",
    "Note: It is important to evaluate the performance of multiple models as models will behave differently based on the data provided. "
   ]
  },
  {
   "cell_type": "markdown",
   "metadata": {},
   "source": [
    "#### n) Define a LogisticRegression classifier.  Fit the classifier with the appropriate training dataset"
   ]
  },
  {
   "cell_type": "code",
   "execution_count": 36,
   "metadata": {},
   "outputs": [
    {
     "data": {
      "text/plain": [
       "LogisticRegression(C=1.0, class_weight=None, dual=False, fit_intercept=True,\n",
       "          intercept_scaling=1, max_iter=100, multi_class='ovr', n_jobs=1,\n",
       "          penalty='l2', random_state=None, solver='liblinear', tol=0.0001,\n",
       "          verbose=0, warm_start=False)"
      ]
     },
     "execution_count": 36,
     "metadata": {},
     "output_type": "execute_result"
    }
   ],
   "source": [
    "# fit the classifier\n",
    "clf_lr = LogisticRegression()\n",
    "clf_lr.fit(X_train_scaled, y_train)"
   ]
  },
  {
   "cell_type": "markdown",
   "metadata": {},
   "source": [
    "### Predict\n",
    "With the model fitted, we can predict results!"
   ]
  },
  {
   "cell_type": "markdown",
   "metadata": {},
   "source": [
    "#### o) predict results for both the training & testing datasets"
   ]
  },
  {
   "cell_type": "code",
   "execution_count": 37,
   "metadata": {},
   "outputs": [],
   "source": [
    "# predict using the test dataset\n",
    "y_pred_lr = clf_lr.predict(X_train_scaled)\n",
    "y_pred_lr_test = clf_lr.predict(X_test_scaled)\n",
    "\n",
    "# find the prediction precentage for the 'default' class (which is the second column)\n",
    "y_score_lr = clf_lr.predict_proba(X_train_scaled)[:,1]\n",
    "y_score_lr_test = clf_lr.predict_proba(X_test_scaled)[:,1]"
   ]
  },
  {
   "cell_type": "markdown",
   "metadata": {},
   "source": [
    "### Score The Results\n",
    "Lets examine our predictions results in order to determine how our model is performing"
   ]
  },
  {
   "cell_type": "code",
   "execution_count": 38,
   "metadata": {},
   "outputs": [
    {
     "name": "stdout",
     "output_type": "stream",
     "text": [
      "Training Scores\n",
      "Accuracy: 0.946780339727443\n",
      "ROC AUC: 0.9297059895423406\n",
      "\n",
      "Testing Scores\n",
      "Accuracy: 0.948333763885301\n",
      "ROC AUC: 0.9085288834561438\n"
     ]
    }
   ],
   "source": [
    "# find the scores\n",
    "accuracy_score = clf_lr.score(X_train_scaled, y_train)\n",
    "roc_auc = roc_auc_score(y_train, y_score_lr)\n",
    "\n",
    "accuracy_score_test = clf_lr.score(X_test_scaled, y_test)\n",
    "roc_auc_test = roc_auc_score(y_test, y_score_lr_test)\n",
    "\n",
    "# print scores\n",
    "print('Training Scores')\n",
    "print('Accuracy: {}'.format(accuracy_score))\n",
    "print('ROC AUC: {}'.format(roc_auc))\n",
    "print()\n",
    "print('Testing Scores')\n",
    "print('Accuracy: {}'.format(accuracy_score_test))\n",
    "print('ROC AUC: {}'.format(roc_auc_test))"
   ]
  },
  {
   "cell_type": "markdown",
   "metadata": {},
   "source": [
    "### Print the classification report for our test predictions"
   ]
  },
  {
   "cell_type": "code",
   "execution_count": 39,
   "metadata": {},
   "outputs": [
    {
     "name": "stdout",
     "output_type": "stream",
     "text": [
      "             precision    recall  f1-score   support\n",
      "\n",
      "          0       0.94      1.00      0.97      6702\n",
      "          1       1.00      0.62      0.76      1040\n",
      "\n",
      "avg / total       0.95      0.95      0.94      7742\n",
      "\n"
     ]
    }
   ],
   "source": [
    "print(classification_report(y_test, y_pred_lr_test, target_names=['0', '1']))"
   ]
  },
  {
   "cell_type": "markdown",
   "metadata": {},
   "source": [
    "### Importance of Scoring Metrics\n",
    "Looking at the accuracy & ROC AUC scores, we would think our model is performing well.  However, the classification report tells otherwise.  We are struggling to correctly classify defaulted loans.  How do we correct this? \n",
    "\n",
    "Let's try balancing our dataset and trying again. "
   ]
  },
  {
   "cell_type": "markdown",
   "metadata": {},
   "source": [
    "## Task 4 - SMOTE Class Balancing\n",
    "Using SMOTE, we are able to bring balance to our minority class, which will hopefully improve our accuracy score.\n",
    "\n",
    "SMOTE introduces sythetic data.  It is important to ensure that sythetic data is only introduced into our training data."
   ]
  },
  {
   "cell_type": "code",
   "execution_count": 40,
   "metadata": {},
   "outputs": [
    {
     "name": "stdout",
     "output_type": "stream",
     "text": [
      "Class distribution prior to SMOTE Counter({0: 26566, 1: 4400})\n"
     ]
    }
   ],
   "source": [
    "from collections import Counter\n",
    "\n",
    "# display the sampled classes\n",
    "print('Class distribution prior to SMOTE {}'.format(Counter(y_train)))"
   ]
  },
  {
   "cell_type": "code",
   "execution_count": 41,
   "metadata": {},
   "outputs": [
    {
     "name": "stdout",
     "output_type": "stream",
     "text": [
      "Resampled dataset shape Counter({0: 26566, 1: 26566})\n"
     ]
    }
   ],
   "source": [
    "from imblearn.over_sampling import SMOTE\n",
    "\n",
    "# balance our class\n",
    "sm = SMOTE(ratio='minority', random_state=42)\n",
    "X_res, y_res = sm.fit_sample(X_train, y_train)\n",
    "\n",
    "# display the sampled classes\n",
    "print('Resampled dataset shape {}'.format(Counter(y_res)))"
   ]
  },
  {
   "cell_type": "markdown",
   "metadata": {},
   "source": [
    "### Retrain & score our model"
   ]
  },
  {
   "cell_type": "code",
   "execution_count": 42,
   "metadata": {},
   "outputs": [
    {
     "name": "stdout",
     "output_type": "stream",
     "text": [
      "Training Scores\n",
      "Accuracy: 0.884344651057743\n",
      "ROC AUC: 0.9564516069429883\n",
      "\n",
      "Testing Scores\n",
      "Accuracy: 0.9443296305864117\n",
      "ROC AUC: 0.9100270011248077\n"
     ]
    }
   ],
   "source": [
    "# scale & transform the data\n",
    "sc = StandardScaler()\n",
    "X_train_scaled = sc.fit_transform(X_res)\n",
    "X_test_scaled = sc.transform(X_test)\n",
    "\n",
    "# fit the classifier\n",
    "clf_lr_balanced = LogisticRegression()\n",
    "clf_lr_balanced.fit(X_train_scaled, y_res)\n",
    "\n",
    "# predict using the test dataset\n",
    "y_pred_lr = clf_lr_balanced.predict(X_train_scaled)\n",
    "y_pred_lr_test = clf_lr_balanced.predict(X_test_scaled)\n",
    "\n",
    "# find the prediction precentage for the 'default' class (which is the second column)\n",
    "y_score_lr = clf_lr_balanced.predict_proba(X_train_scaled)[:,1]\n",
    "y_score_lr_test = clf_lr_balanced.predict_proba(X_test_scaled)[:,1]\n",
    "\n",
    "# find the scores\n",
    "accuracy_score = clf_lr_balanced.score(X_train_scaled, y_res)\n",
    "roc_auc = roc_auc_score(y_res, y_score_lr)\n",
    "\n",
    "accuracy_score_test = clf_lr_balanced.score(X_test_scaled, y_test)\n",
    "roc_auc_test = roc_auc_score(y_test, y_score_lr_test)\n",
    "\n",
    "# print scores\n",
    "print('Training Scores')\n",
    "print('Accuracy: {}'.format(accuracy_score))\n",
    "print('ROC AUC: {}'.format(roc_auc))\n",
    "print()\n",
    "print('Testing Scores')\n",
    "print('Accuracy: {}'.format(accuracy_score_test))\n",
    "print('ROC AUC: {}'.format(roc_auc_test))"
   ]
  },
  {
   "cell_type": "markdown",
   "metadata": {},
   "source": [
    "#### Print classification Report"
   ]
  },
  {
   "cell_type": "code",
   "execution_count": 43,
   "metadata": {},
   "outputs": [
    {
     "name": "stdout",
     "output_type": "stream",
     "text": [
      "             precision    recall  f1-score   support\n",
      "\n",
      "          0       0.95      0.98      0.97      6702\n",
      "          1       0.87      0.69      0.77      1040\n",
      "\n",
      "avg / total       0.94      0.94      0.94      7742\n",
      "\n"
     ]
    }
   ],
   "source": [
    "print(classification_report(y_test, y_pred_lr_test, target_names=['0', '1']))"
   ]
  },
  {
   "cell_type": "markdown",
   "metadata": {},
   "source": [
    "Depending on your specific use case, you may want to tune your parameters to achieve better results in precision or recall.\n",
    "\n",
    "In our specific example, is it better to \n",
    "* Provide a loan to somone who will default\n",
    "* Deny a loan to someone who will not defaul\n",
    "\n",
    "These are the questions you need to validate with your stakeholders and take into account when building your model.\n",
    "\n",
    "**Bias is also a very big factor that needs to be tested**\n",
    "* Is your model biased based on an applicants state? \n",
    "* Does your model favor a particular age range? \n",
    "* etc"
   ]
  },
  {
   "cell_type": "markdown",
   "metadata": {},
   "source": [
    "### Investigate Feature Importances\n",
    "Certain algorithms have the ability to print feature importances.  This allows you to see which features have strong predictive power, and conversely, which features do not have the predictive power you thought they had. \n",
    "\n",
    "For logistic regression, feature importances can be access from the .coef_[0] attribute"
   ]
  },
  {
   "cell_type": "code",
   "execution_count": 44,
   "metadata": {},
   "outputs": [
    {
     "data": {
      "text/plain": [
       "[('recoveries', 55.29301178396711),\n",
       " ('int_rate', 0.3194664036485902),\n",
       " ('inq_last_6mths', 0.20239072070199698),\n",
       " ('dti', 0.18047660858376094),\n",
       " ('issue_d_year_2008', 0.13385560137809774),\n",
       " ('pub_rec', 0.13349311828974617),\n",
       " ('loan_amnt', 0.11468359858463253),\n",
       " ('purpose_small_business', 0.10736337174793541),\n",
       " ('term_ 60 months', 0.0979307568029307),\n",
       " ('addr_state_CA', 0.09106430569465912)]"
      ]
     },
     "execution_count": 44,
     "metadata": {},
     "output_type": "execute_result"
    }
   ],
   "source": [
    "from operator import itemgetter\n",
    "\n",
    "sorted(list(zip(list(X.columns), list(clf_lr_balanced.coef_[0]))), key=itemgetter(1), reverse=True)[:10]"
   ]
  },
  {
   "cell_type": "markdown",
   "metadata": {},
   "source": [
    "## Task 5 - Pipelines\n",
    "Pipelines allow us to streamline model building.  They allow us to string together multiple transformation steps, which ultimately feed into an estimator.  A bonus to pipelines is that they allow us to quickly swap transformations and estimators as needed.  \n",
    "\n",
    "Each step is defined with a tuple that defines the step name and object to be invoked."
   ]
  },
  {
   "cell_type": "code",
   "execution_count": 45,
   "metadata": {},
   "outputs": [
    {
     "name": "stdout",
     "output_type": "stream",
     "text": [
      "Training Scores\n",
      "Accuracy: 0.884344651057743\n",
      "ROC AUC: 0.9564516069429883\n",
      "\n",
      "Testing Scores\n",
      "Accuracy: 0.9443296305864117\n",
      "ROC AUC: 0.9100270011248077\n"
     ]
    }
   ],
   "source": [
    "# Build pipeline\n",
    "pipe_lr = Pipeline([\n",
    "    ('scaler', StandardScaler()),\n",
    "    ('clf', LogisticRegression())\n",
    "])\n",
    "\n",
    "# fit the data\n",
    "pipe_lr.fit(X_res, y_res)\n",
    "\n",
    "# predict using the test dataset\n",
    "y_pred_lr = pipe_lr.predict(X_res)\n",
    "y_pred_lr_test = pipe_lr.predict(X_test)\n",
    "\n",
    "# find the prediction precentage for the 'default' class (which is the second column)\n",
    "y_score_lr = pipe_lr.predict_proba(X_res)[:,1]\n",
    "y_score_lr_test = pipe_lr.predict_proba(X_test)[:,1]\n",
    "\n",
    "# find the scores\n",
    "accuracy_score = pipe_lr.score(X_res, y_res)\n",
    "roc_auc = roc_auc_score(y_res, y_score_lr)\n",
    "\n",
    "accuracy_score_test = pipe_lr.score(X_test, y_test)\n",
    "roc_auc_test = roc_auc_score(y_test, y_score_lr_test)\n",
    "\n",
    "# print scores\n",
    "print('Training Scores')\n",
    "print('Accuracy: {}'.format(accuracy_score))\n",
    "print('ROC AUC: {}'.format(roc_auc))\n",
    "print()\n",
    "print('Testing Scores')\n",
    "print('Accuracy: {}'.format(accuracy_score_test))\n",
    "print('ROC AUC: {}'.format(roc_auc_test))"
   ]
  },
  {
   "cell_type": "markdown",
   "metadata": {},
   "source": [
    "Notice that the pipeline has removed the need to scale data prior to feeding it into the pipeline.  This is because the pipeline knows how to appropriate apply scaling to incoming data.\n",
    "\n",
    "This become powerful as you begin to add dimensionality reduction and other transformations to your pipeline. "
   ]
  },
  {
   "cell_type": "markdown",
   "metadata": {},
   "source": [
    "## Task 6 - Hyperparameter Tuning\n",
    "Use hyperparameter tuning to improve model performance by selecting optimal parameters for your data.\n",
    "\n",
    "The param_grid identifies the parameters and values which we want to test.  \n",
    "\n",
    "In our example below, we will utilize GridSearchCV to search for the best parameters.  Note that GridSearchCV will test all possible combinations of parameters.  In cases where you have an large number of paramters - this can take an extrodinary amount of time.  Other options such as RandomizedSearchCV are available to test smaller combinations when sensitive on time.   "
   ]
  },
  {
   "cell_type": "code",
   "execution_count": 46,
   "metadata": {},
   "outputs": [
    {
     "data": {
      "text/plain": [
       "{'clf__C': 10}"
      ]
     },
     "execution_count": 46,
     "metadata": {},
     "output_type": "execute_result"
    }
   ],
   "source": [
    "# we will do hyperparameter tuning on our logisitic regression\n",
    "param_grid = [{'clf__C':[1, 10, 100, 250, 500, 750, 1000]}]\n",
    "\n",
    "# Build pipeline\n",
    "pipe_lr = Pipeline([\n",
    "    ('scaler', StandardScaler()),\n",
    "    ('clf', LogisticRegression())\n",
    "])\n",
    "\n",
    "# create our grid search\n",
    "grid_search = GridSearchCV(pipe_lr, param_grid, n_jobs=-1, scoring='roc_auc', return_train_score=False)\n",
    "\n",
    "# perform the fit\n",
    "grid_search.fit(X_train_scaled, y_res)\n",
    "\n",
    "# print out our best params\n",
    "grid_search.best_params_"
   ]
  },
  {
   "cell_type": "code",
   "execution_count": 47,
   "metadata": {},
   "outputs": [
    {
     "name": "stdout",
     "output_type": "stream",
     "text": [
      "Training Scores\n",
      "Accuracy: 0.8909696604682678\n",
      "ROC AUC: 0.9611658469617635\n",
      "\n",
      "Testing Scores\n",
      "Accuracy: 0.947300439163007\n",
      "ROC AUC: 0.9165418474393406\n"
     ]
    }
   ],
   "source": [
    "# Build pipeline\n",
    "pipe_lr = Pipeline([\n",
    "    ('scaler', StandardScaler()),\n",
    "    ('clf', LogisticRegression(C=10))\n",
    "])\n",
    "\n",
    "# fit the data\n",
    "pipe_lr.fit(X_res, y_res)\n",
    "\n",
    "# predict using the test dataset\n",
    "y_pred_lr = pipe_lr.predict(X_res)\n",
    "y_pred_lr_test = pipe_lr.predict(X_test)\n",
    "\n",
    "# find the prediction precentage for the 'default' class (which is the second column)\n",
    "y_score_lr = pipe_lr.predict_proba(X_res)[:,1]\n",
    "y_score_lr_test = pipe_lr.predict_proba(X_test)[:,1]\n",
    "\n",
    "# find the scores\n",
    "accuracy_score = pipe_lr.score(X_res, y_res)\n",
    "roc_auc = roc_auc_score(y_res, y_score_lr)\n",
    "\n",
    "accuracy_score_test = pipe_lr.score(X_test, y_test)\n",
    "roc_auc_test = roc_auc_score(y_test, y_score_lr_test)\n",
    "\n",
    "# print scores\n",
    "print('Training Scores')\n",
    "print('Accuracy: {}'.format(accuracy_score))\n",
    "print('ROC AUC: {}'.format(roc_auc))\n",
    "print()\n",
    "print('Testing Scores')\n",
    "print('Accuracy: {}'.format(accuracy_score_test))\n",
    "print('ROC AUC: {}'.format(roc_auc_test))"
   ]
  },
  {
   "cell_type": "markdown",
   "metadata": {},
   "source": [
    "### print classification report"
   ]
  },
  {
   "cell_type": "code",
   "execution_count": 48,
   "metadata": {},
   "outputs": [
    {
     "name": "stdout",
     "output_type": "stream",
     "text": [
      "             precision    recall  f1-score   support\n",
      "\n",
      "          0       0.95      0.99      0.97      6702\n",
      "          1       0.89      0.70      0.78      1040\n",
      "\n",
      "avg / total       0.95      0.95      0.94      7742\n",
      "\n"
     ]
    }
   ],
   "source": [
    "print(classification_report(y_test, y_pred_lr_test, target_names=['0', '1']))"
   ]
  },
  {
   "cell_type": "markdown",
   "metadata": {},
   "source": [
    "## Task 7 - Change to XGBClassifier\n",
    "In order to show you the versatility of pipeline, let's go ahead a swap out LogisticRegression for XGBClassifier. I will not touch any of the other code.  When we run this, what are the results? "
   ]
  },
  {
   "cell_type": "code",
   "execution_count": 49,
   "metadata": {},
   "outputs": [],
   "source": [
    "from xgboost import XGBClassifier"
   ]
  },
  {
   "cell_type": "code",
   "execution_count": 50,
   "metadata": {},
   "outputs": [
    {
     "name": "stderr",
     "output_type": "stream",
     "text": [
      "//anaconda/lib/python3.6/site-packages/sklearn/preprocessing/label.py:151: DeprecationWarning: The truth value of an empty array is ambiguous. Returning False, but in future this will result in an error. Use `array.size > 0` to check that an array is not empty.\n",
      "  if diff:\n",
      "//anaconda/lib/python3.6/site-packages/sklearn/preprocessing/label.py:151: DeprecationWarning: The truth value of an empty array is ambiguous. Returning False, but in future this will result in an error. Use `array.size > 0` to check that an array is not empty.\n",
      "  if diff:\n"
     ]
    },
    {
     "name": "stdout",
     "output_type": "stream",
     "text": [
      "Training Scores\n",
      "Accuracy: 0.9990401264774523\n",
      "ROC AUC: 0.9998748952104101\n",
      "\n",
      "Testing Scores\n",
      "Accuracy: 0.998966675277706\n",
      "ROC AUC: 0.9979157341092211\n"
     ]
    },
    {
     "name": "stderr",
     "output_type": "stream",
     "text": [
      "//anaconda/lib/python3.6/site-packages/sklearn/preprocessing/label.py:151: DeprecationWarning: The truth value of an empty array is ambiguous. Returning False, but in future this will result in an error. Use `array.size > 0` to check that an array is not empty.\n",
      "  if diff:\n",
      "//anaconda/lib/python3.6/site-packages/sklearn/preprocessing/label.py:151: DeprecationWarning: The truth value of an empty array is ambiguous. Returning False, but in future this will result in an error. Use `array.size > 0` to check that an array is not empty.\n",
      "  if diff:\n"
     ]
    }
   ],
   "source": [
    "# Build pipeline\n",
    "pipe_lr = Pipeline([\n",
    "    ('scaler', StandardScaler()),\n",
    "    ('clf', XGBClassifier())\n",
    "])\n",
    "\n",
    "# fit the data\n",
    "pipe_lr.fit(X_res, y_res)\n",
    "\n",
    "# predict using the test dataset\n",
    "y_pred_lr = pipe_lr.predict(X_res)\n",
    "y_pred_lr_test = pipe_lr.predict(X_test)\n",
    "\n",
    "# find the prediction precentage for the 'default' class (which is the second column)\n",
    "y_score_lr = pipe_lr.predict_proba(X_res)[:,1]\n",
    "y_score_lr_test = pipe_lr.predict_proba(X_test)[:,1]\n",
    "\n",
    "# find the scores\n",
    "accuracy_score = pipe_lr.score(X_res, y_res)\n",
    "roc_auc = roc_auc_score(y_res, y_score_lr)\n",
    "\n",
    "accuracy_score_test = pipe_lr.score(X_test, y_test)\n",
    "roc_auc_test = roc_auc_score(y_test, y_score_lr_test)\n",
    "\n",
    "# print scores\n",
    "print('Training Scores')\n",
    "print('Accuracy: {}'.format(accuracy_score))\n",
    "print('ROC AUC: {}'.format(roc_auc))\n",
    "print()\n",
    "print('Testing Scores')\n",
    "print('Accuracy: {}'.format(accuracy_score_test))\n",
    "print('ROC AUC: {}'.format(roc_auc_test))"
   ]
  },
  {
   "cell_type": "code",
   "execution_count": 51,
   "metadata": {},
   "outputs": [
    {
     "name": "stdout",
     "output_type": "stream",
     "text": [
      "             precision    recall  f1-score   support\n",
      "\n",
      "          0       1.00      1.00      1.00      6702\n",
      "          1       1.00      0.99      1.00      1040\n",
      "\n",
      "avg / total       1.00      1.00      1.00      7742\n",
      "\n"
     ]
    }
   ],
   "source": [
    "print(classification_report(y_test, y_pred_lr_test, target_names=['0', '1']))"
   ]
  },
  {
   "cell_type": "markdown",
   "metadata": {},
   "source": [
    "## Additional topics to discuss\n",
    "* Cross Validation\n",
    "* Feature Engineering\n",
    "* Dimensionality Reduction"
   ]
  },
  {
   "cell_type": "code",
   "execution_count": null,
   "metadata": {},
   "outputs": [],
   "source": []
  }
 ],
 "metadata": {
  "kernelspec": {
   "display_name": "Python 3",
   "language": "python",
   "name": "python3"
  },
  "language_info": {
   "codemirror_mode": {
    "name": "ipython",
    "version": 3
   },
   "file_extension": ".py",
   "mimetype": "text/x-python",
   "name": "python",
   "nbconvert_exporter": "python",
   "pygments_lexer": "ipython3",
   "version": "3.6.5"
  }
 },
 "nbformat": 4,
 "nbformat_minor": 2
}
